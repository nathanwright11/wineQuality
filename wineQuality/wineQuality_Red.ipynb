{
 "cells": [
  {
   "cell_type": "code",
   "execution_count": 1,
   "metadata": {},
   "outputs": [],
   "source": [
    "from sklearn.multiclass import OneVsRestClassifier\n",
    "from sklearn.model_selection import train_test_split, GridSearchCV\n",
    "from sklearn.metrics import plot_confusion_matrix \n",
    "from sklearn.metrics import make_scorer, f1_score, roc_auc_score, precision_score\n",
    "from sklearn.preprocessing import StandardScaler\n",
    "from sklearn.ensemble import RandomForestClassifier\n",
    "from imblearn.over_sampling import SMOTE\n",
    "import numpy as np\n",
    "import pandas as pd\n",
    "import matplotlib.pyplot as plt\n",
    "%matplotlib inline"
   ]
  },
  {
   "cell_type": "markdown",
   "metadata": {},
   "source": [
    "## Loading data into Pandas DataFrame"
   ]
  },
  {
   "cell_type": "code",
   "execution_count": 2,
   "metadata": {},
   "outputs": [],
   "source": [
    "red_df = pd.read_csv('winequality-red.csv', sep=';')"
   ]
  },
  {
   "cell_type": "code",
   "execution_count": 3,
   "metadata": {},
   "outputs": [],
   "source": [
    "#splits dataset into features and wine score dataframes\n",
    "df_features = red_df.drop(columns='quality')\n",
    "df_score = red_df['quality']\n",
    "\n",
    "#list of scores given to wines (for labels)\n",
    "score = ['3','4', '5', '6', '7', '8']"
   ]
  },
  {
   "cell_type": "code",
   "execution_count": 4,
   "metadata": {},
   "outputs": [
    {
     "name": "stdout",
     "output_type": "stream",
     "text": [
      "Total wines scored: 1599\n"
     ]
    },
    {
     "data": {
      "image/png": "[encoded data removed]",
      "text/plain": [
       "<Figure size 432x288 with 1 Axes>"
      ]
     },
     "metadata": {
      "needs_background": "light"
     },
     "output_type": "display_data"
    }
   ],
   "source": [
    "print(f'Total wines scored: {len(red_df)}')\n",
    "\n",
    "plt.hist(red_df['quality'], bins=[3,4,5,6,7,8,9], align='left', rwidth=0.5)\n",
    "plt.title('Distribution of Red Wine Scores')\n",
    "plt.xlabel('wine score')\n",
    "plt.ylabel('# of wines')\n",
    "#plt.savefig('red_score_hist.png')\n",
    "plt.show()"
   ]
  },
  {
   "cell_type": "markdown",
   "metadata": {},
   "source": [
    "## Over-samples minority classes"
   ]
  },
  {
   "cell_type": "code",
   "execution_count": 31,
   "metadata": {},
   "outputs": [],
   "source": [
    "sm = SMOTE(sampling_strategy = 'not majority', n_jobs=-1)\n",
    "\n",
    "X_res, y_res = sm.fit_resample(df_features, df_score)"
   ]
  },
  {
   "cell_type": "markdown",
   "metadata": {},
   "source": [
    "## Scaling Data"
   ]
  },
  {
   "cell_type": "code",
   "execution_count": 32,
   "metadata": {},
   "outputs": [],
   "source": [
    "#Scales features by subtracting the mean and dividing by the standard deviation [z=(x-u)/s]\n",
    "feat_scaled = StandardScaler().fit_transform(X_res)"
   ]
  },
  {
   "cell_type": "markdown",
   "metadata": {},
   "source": [
    "## Splitting into Training and Test Data"
   ]
  },
  {
   "cell_type": "code",
   "execution_count": 33,
   "metadata": {},
   "outputs": [],
   "source": [
    "#Splitting into train/test set\n",
    "X_train, X_test, y_train, y_test = train_test_split(feat_scaled, y_res, test_size=0.33)"
   ]
  },
  {
   "cell_type": "markdown",
   "metadata": {},
   "source": [
    "## Model Tuning"
   ]
  },
  {
   "cell_type": "code",
   "execution_count": 34,
   "metadata": {},
   "outputs": [],
   "source": [
    "#Dictionary of paramaters that will be tested\n",
    "param_grid = {\n",
    "    'n_estimators': [100, 120, 140, 200],\n",
    "    'max_depth': [3, 5, 8, 10, 12],\n",
    "    'criterion': ['gini', 'entropy']\n",
    "}"
   ]
  },
  {
   "cell_type": "code",
   "execution_count": 39,
   "metadata": {},
   "outputs": [
    {
     "name": "stdout",
     "output_type": "stream",
     "text": [
      "Best score:\n",
      " 0.84\n",
      "\n",
      "Best parameters for classifier:\n",
      "{'criterion': 'entropy', 'max_depth': 12, 'n_estimators': 200}\n"
     ]
    }
   ],
   "source": [
    "rf = RandomForestClassifier(class_weight='balanced')\n",
    "scorer = make_scorer(f1_score, average=\"weighted\")\n",
    "\n",
    "grid_search = GridSearchCV(rf, param_grid=param_grid, scoring=scorer, n_jobs=-1)\n",
    "tuned_clf = grid_search.fit(X_train, y_train)\n",
    "params = tuned_clf.best_params_\n",
    "\n",
    "print(f'Best score:')\n",
    "print(f'{tuned_clf.best_score_: .2f}')\n",
    "print()\n",
    "print(f'Best parameters for classifier:')\n",
    "print(f'{params}')"
   ]
  },
  {
   "cell_type": "code",
   "execution_count": 40,
   "metadata": {},
   "outputs": [
    {
     "name": "stdout",
     "output_type": "stream",
     "text": [
      "Precision: 0.84\n",
      "f1 score: 0.84\n",
      "AUC score: 0.97\n"
     ]
    }
   ],
   "source": [
    "tuned_clf = RandomForestClassifier(class_weight='balanced',\n",
    "                                   n_estimators=params['n_estimators'],\n",
    "                                   max_depth=params['max_depth'],\n",
    "                                   criterion=params['criterion'],\n",
    "                                   n_jobs=-1\n",
    "                                 )\n",
    "ovr = OneVsRestClassifier(tuned_clf, n_jobs=-1).fit(X_train, y_train)\n",
    "\n",
    "y_pred = ovr.predict(X_test)\n",
    "y_prob = ovr.predict_proba(X_test)\n",
    "\n",
    "print(f'Precision: {precision_score(y_test, y_pred, average=\"weighted\"):.2f}')\n",
    "print(f'f1 score: {f1_score(y_test, y_pred, average=\"weighted\"):.2f}')\n",
    "print(f'AUC score: {roc_auc_score(y_test, y_prob, average=\"weighted\", multi_class=\"ovr\"):.2f}')"
   ]
  },
  {
   "cell_type": "code",
   "execution_count": 41,
   "metadata": {},
   "outputs": [
    {
     "data": {
      "image/png": "[encoded data removed]",
      "text/plain": [
       "<Figure size 432x288 with 2 Axes>"
      ]
     },
     "metadata": {
      "needs_background": "light"
     },
     "output_type": "display_data"
    }
   ],
   "source": [
    "plot_confusion_matrix(ovr, X_test, y_test, display_labels=score)\n",
    "plt.title('Red Wine Confusion Matrix')\n",
    "#plt.savefig('red_confusion_matrix.png')\n",
    "plt.show()"
   ]
  },
  {
   "cell_type": "code",
   "execution_count": null,
   "metadata": {},
   "outputs": [],
   "source": []
  }
 ],
 "metadata": {
  "kernelspec": {
   "display_name": "Python 3",
   "language": "python",
   "name": "python3"
  },
  "language_info": {
   "codemirror_mode": {
    "name": "ipython",
    "version": 3
   },
   "file_extension": ".py",
   "mimetype": "text/x-python",
   "name": "python",
   "nbconvert_exporter": "python",
   "pygments_lexer": "ipython3",
   "version": "3.7.4"
  }
 },
 "nbformat": 4,
 "nbformat_minor": 4
}

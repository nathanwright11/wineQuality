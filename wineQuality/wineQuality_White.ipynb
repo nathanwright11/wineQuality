{
 "cells": [
  {
   "cell_type": "code",
   "execution_count": 1,
   "metadata": {},
   "outputs": [],
   "source": [
    "from sklearn.multiclass import OneVsRestClassifier\n",
    "from sklearn.model_selection import train_test_split, GridSearchCV\n",
    "from sklearn.metrics import plot_confusion_matrix\n",
    "from sklearn.metrics import make_scorer, f1_score, precision_score, roc_auc_score\n",
    "from sklearn.preprocessing import StandardScaler\n",
    "from sklearn.ensemble import RandomForestClassifier\n",
    "import numpy as np\n",
    "import pandas as pd\n",
    "import matplotlib.pyplot as plt\n",
    "%matplotlib inline"
   ]
  },
  {
   "cell_type": "markdown",
   "metadata": {},
   "source": [
    "## Loading data into Pandas DataFrame"
   ]
  },
  {
   "cell_type": "code",
   "execution_count": 2,
   "metadata": {},
   "outputs": [],
   "source": [
    "white_df = pd.read_csv('winequality-white.csv', sep=';')"
   ]
  },
  {
   "cell_type": "code",
   "execution_count": 3,
   "metadata": {},
   "outputs": [],
   "source": [
    "df_features = white_df.drop(columns='quality')\n",
    "df_score = white_df['quality']\n",
    "\n",
    "score = ['3', '4', '5', '6', '7', '8', '9']"
   ]
  },
  {
   "cell_type": "markdown",
   "metadata": {},
   "source": [
    "### DIstribution of wine scores"
   ]
  },
  {
   "cell_type": "code",
   "execution_count": 4,
   "metadata": {},
   "outputs": [
    {
     "data": {
      "image/png": "[encoded data removed]",
      "text/plain": [
       "<Figure size 432x288 with 1 Axes>"
      ]
     },
     "metadata": {
      "needs_background": "light"
     },
     "output_type": "display_data"
    }
   ],
   "source": [
    "plt.hist(white_df['quality'], bins=[3,4,5,6,7,8,9,10], align='left', rwidth=0.5)\n",
    "plt.title('Distribution of White Wine Scores')\n",
    "plt.xlabel('wine score')\n",
    "plt.ylabel('# of wines')\n",
    "#plt.savefig('white_score_hist.png')\n",
    "plt.show()"
   ]
  },
  {
   "cell_type": "markdown",
   "metadata": {},
   "source": [
    "## Scaling data"
   ]
  },
  {
   "cell_type": "code",
   "execution_count": 5,
   "metadata": {},
   "outputs": [],
   "source": [
    "#Full dataset\n",
    "df_features_scaled = StandardScaler().fit_transform(df_features)"
   ]
  },
  {
   "cell_type": "markdown",
   "metadata": {},
   "source": [
    "## Splitting into Training and Test data"
   ]
  },
  {
   "cell_type": "code",
   "execution_count": 6,
   "metadata": {},
   "outputs": [],
   "source": [
    "# #Splitting of full dataset\n",
    "X_train, X_test, y_train, y_test = train_test_split(df_features_scaled, df_score, test_size=0.33)"
   ]
  },
  {
   "cell_type": "markdown",
   "metadata": {},
   "source": [
    "## Model tuning"
   ]
  },
  {
   "cell_type": "markdown",
   "metadata": {},
   "source": [
    "### Random Forest Classifier"
   ]
  },
  {
   "cell_type": "code",
   "execution_count": 7,
   "metadata": {},
   "outputs": [],
   "source": [
    "#Dictionary of paramaters that will be tested\n",
    "param_grid = {\n",
    "    'n_estimators': [100, 120, 140, 200],\n",
    "    'max_depth': [3, 5, 8, 10, 12],\n",
    "    'criterion': ['gini', 'entropy']\n",
    "}"
   ]
  },
  {
   "cell_type": "code",
   "execution_count": 8,
   "metadata": {},
   "outputs": [
    {
     "name": "stderr",
     "output_type": "stream",
     "text": [
      "C:\\Users\\mster\\Anaconda3\\lib\\site-packages\\sklearn\\model_selection\\_split.py:672: UserWarning: The least populated class in y has only 2 members, which is less than n_splits=5.\n",
      "  % (min_groups, self.n_splits)), UserWarning)\n"
     ]
    },
    {
     "name": "stdout",
     "output_type": "stream",
     "text": [
      "Best score:\n",
      " 0.63\n",
      "\n",
      "Best parameters for classifier:\n",
      "{'criterion': 'entropy', 'max_depth': 12, 'n_estimators': 140}\n"
     ]
    }
   ],
   "source": [
    "rf = RandomForestClassifier(class_weight='balanced')\n",
    "scorer = make_scorer(f1_score, average=\"weighted\")\n",
    "\n",
    "grid_search = GridSearchCV(rf, param_grid=param_grid, scoring=scorer, n_jobs=-1)\n",
    "tuned_clf = grid_search.fit(X_train, y_train)\n",
    "params = tuned_clf.best_params_\n",
    "\n",
    "print(f'Best score:')\n",
    "print(f'{tuned_clf.best_score_: .2f}')\n",
    "print()\n",
    "print(f'Best parameters for classifier:')\n",
    "print(f'{params}')"
   ]
  },
  {
   "cell_type": "code",
   "execution_count": 9,
   "metadata": {},
   "outputs": [
    {
     "name": "stdout",
     "output_type": "stream",
     "text": [
      "Precision: 0.66\n",
      "f1 score: 0.65\n",
      "AUC score: 0.84\n"
     ]
    },
    {
     "name": "stderr",
     "output_type": "stream",
     "text": [
      "C:\\Users\\mster\\Anaconda3\\lib\\site-packages\\sklearn\\metrics\\_classification.py:1221: UndefinedMetricWarning: Precision is ill-defined and being set to 0.0 in labels with no predicted samples. Use `zero_division` parameter to control this behavior.\n",
      "  _warn_prf(average, modifier, msg_start, len(result))\n"
     ]
    }
   ],
   "source": [
    "tuned_clf = RandomForestClassifier(class_weight='balanced',\n",
    "                                   n_estimators=params['n_estimators'],\n",
    "                                   max_depth=params['max_depth'],\n",
    "                                   criterion=params['criterion'],\n",
    "                                   n_jobs=-1\n",
    "                                 )\n",
    "ovr = OneVsRestClassifier(tuned_clf, n_jobs=-1).fit(X_train, y_train)\n",
    "\n",
    "y_pred = ovr.predict(X_test)\n",
    "y_prob = ovr.predict_proba(X_test)\n",
    "\n",
    "print(f'Precision: {precision_score(y_test, y_pred, average=\"weighted\"):.2f}')\n",
    "print(f'f1 score: {f1_score(y_test, y_pred, average=\"weighted\"):.2f}')\n",
    "print(f'AUC score: {roc_auc_score(y_test, y_prob, average=\"weighted\", multi_class=\"ovr\"):.2f}')"
   ]
  },
  {
   "cell_type": "code",
   "execution_count": 10,
   "metadata": {},
   "outputs": [
    {
     "data": {
      "image/png": "[encoded data removed]",
      "text/plain": [
       "<Figure size 432x288 with 2 Axes>"
      ]
     },
     "metadata": {
      "needs_background": "light"
     },
     "output_type": "display_data"
    }
   ],
   "source": [
    "plot_confusion_matrix(ovr, X_test, y_test, display_labels=score)\n",
    "plt.title('White Wine Confusion Matrix')\n",
    "#plt.savefig('white_confusion_matrix.png')\n",
    "plt.show()"
   ]
  },
  {
   "cell_type": "code",
   "execution_count": null,
   "metadata": {},
   "outputs": [],
   "source": []
  }
 ],
 "metadata": {
  "kernelspec": {
   "display_name": "Python 3",
   "language": "python",
   "name": "python3"
  },
  "language_info": {
   "codemirror_mode": {
    "name": "ipython",
    "version": 3
   },
   "file_extension": ".py",
   "mimetype": "text/x-python",
   "name": "python",
   "nbconvert_exporter": "python",
   "pygments_lexer": "ipython3",
   "version": "3.7.4"
  }
 },
 "nbformat": 4,
 "nbformat_minor": 4
}
